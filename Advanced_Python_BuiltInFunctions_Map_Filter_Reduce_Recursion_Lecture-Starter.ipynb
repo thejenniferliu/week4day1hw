{
 "cells": [
  {
   "cell_type": "markdown",
   "metadata": {},
   "source": [
    "# Map, Filter, Reduce, Lambda & Recursion"
   ]
  },
  {
   "cell_type": "markdown",
   "metadata": {},
   "source": [
    "## Tasks Today:\n",
    "\n",
    "1) <b>Lambda Functions</b> <br>\n",
    " &nbsp;&nbsp;&nbsp;&nbsp; a) Syntax <br>\n",
    " &nbsp;&nbsp;&nbsp;&nbsp; b) Saving to a Variable <br>\n",
    " &nbsp;&nbsp;&nbsp;&nbsp; c) Multiple Inputs <br>\n",
    " &nbsp;&nbsp;&nbsp;&nbsp; d) Passing a Lambda into a Function <br>\n",
    " &nbsp;&nbsp;&nbsp;&nbsp; e) Returning a Lambda from a Function <br>\n",
    " &nbsp;&nbsp;&nbsp;&nbsp; f) In-Class Exercise #1 <br>\n",
    "2) <b>Map</b> <br>\n",
    " &nbsp;&nbsp;&nbsp;&nbsp; a) Syntax <br>\n",
    " &nbsp;&nbsp;&nbsp;&nbsp; b) Using Lambda's with Map <br>\n",
    " &nbsp;&nbsp;&nbsp;&nbsp; c) In-Class Exercise #2 <br>\n",
    "3) <b>Filter</b> <br>\n",
    " &nbsp;&nbsp;&nbsp;&nbsp; a) Syntax <br>\n",
    " &nbsp;&nbsp;&nbsp;&nbsp; b) Using Lambda's with Filter <br>\n",
    " &nbsp;&nbsp;&nbsp;&nbsp; c) In-Class Exercise #3 <br>\n",
    "4) <b>Reduce</b> <br>\n",
    " &nbsp;&nbsp;&nbsp;&nbsp; a) Syntax <br>\n",
    " &nbsp;&nbsp;&nbsp;&nbsp; b) Using Lambda's with Reduce <br>\n",
    " &nbsp;&nbsp;&nbsp;&nbsp; c) In-Class Exercise #4 <br>\n",
    "5) <b>Recursion</b> <br>\n",
    " &nbsp;&nbsp;&nbsp;&nbsp; a) Implementing a Base <br>\n",
    " &nbsp;&nbsp;&nbsp;&nbsp; b) Writing a Factorial Function <br>\n",
    " &nbsp;&nbsp;&nbsp;&nbsp; c) In-Class Exercise #5 <br>\n",
    "6) <b>Generators & Iterators</b> <br>\n",
    " &nbsp;&nbsp;&nbsp;&nbsp; a) Yield Keyword <br>\n",
    " &nbsp;&nbsp;&nbsp;&nbsp; b) Inifinite Generator <br>\n",
    " &nbsp;&nbsp;&nbsp;&nbsp; c) In-Class Exercise #6 <br>\n",
    "7) <b>Exercises</b> <br>\n",
    " &nbsp;&nbsp;&nbsp;&nbsp; a) Exercise #1 - Filtering Empty Strings <br>\n",
    " &nbsp;&nbsp;&nbsp;&nbsp; b) Exercise #2 - Sorting with Last Name <br>\n",
    " &nbsp;&nbsp;&nbsp;&nbsp; c) Exercise #3 - Conversion to Farhenheit <br>\n",
    " &nbsp;&nbsp;&nbsp;&nbsp; d) Exercise #4 - Fibonacci Sequence <br>"
   ]
  },
  {
   "cell_type": "markdown",
   "metadata": {},
   "source": [
    "## Lambda Functions <br>\n",
    "<p>Lambda functions... or \"Anonymous Functions\" are referring to inline functions with no name. The keyword lambda denotes the no name function, and executes within a single line. Without saving it to a variable; however, it is not able to be used, unless passed in either as a paramater or within list comprehension.<br>Written as \"(keyword lambda) (one or more inputs) (colon) (function to be executed)\"</p>"
   ]
  },
  {
   "cell_type": "markdown",
   "metadata": {},
   "source": [
    "#### Syntax"
   ]
  },
  {
   "cell_type": "code",
   "execution_count": 2,
   "metadata": {},
   "outputs": [
    {
     "name": "stdout",
     "output_type": "stream",
     "text": [
      "<function add_two at 0x0000023F95297670>\n"
     ]
    }
   ],
   "source": [
    "def add_two(x):\n",
    "    return x + 2\n",
    "\n",
    "print(add_two)"
   ]
  },
  {
   "cell_type": "code",
   "execution_count": 3,
   "metadata": {},
   "outputs": [
    {
     "data": {
      "text/plain": [
       "<function __main__.<lambda>(x)>"
      ]
     },
     "execution_count": 3,
     "metadata": {},
     "output_type": "execute_result"
    }
   ],
   "source": [
    "lambda x: x + 2\n"
   ]
  },
  {
   "cell_type": "code",
   "execution_count": 5,
   "metadata": {},
   "outputs": [
    {
     "name": "stdout",
     "output_type": "stream",
     "text": [
      "<function <lambda> at 0x0000023F95297550>\n"
     ]
    }
   ],
   "source": [
    "print(lambda x: x+2)"
   ]
  },
  {
   "cell_type": "code",
   "execution_count": 6,
   "metadata": {},
   "outputs": [
    {
     "data": {
      "text/plain": [
       "12"
      ]
     },
     "execution_count": 6,
     "metadata": {},
     "output_type": "execute_result"
    }
   ],
   "source": [
    "#IIFE - immediately invoked function expression\n",
    "#execute a lambda function immediately after creation\n",
    "#syntax: (lambda,  x, y, etc: expression)(arg1, arg2, etc..)\n",
    "\n",
    "(lambda x: x+2)(10)"
   ]
  },
  {
   "cell_type": "markdown",
   "metadata": {},
   "source": [
    "#### Saving to a Variable"
   ]
  },
  {
   "cell_type": "code",
   "execution_count": 8,
   "metadata": {},
   "outputs": [
    {
     "name": "stdout",
     "output_type": "stream",
     "text": [
      "<function <lambda> at 0x0000023F95297550>\n"
     ]
    }
   ],
   "source": [
    "named_lambda = lambda x: x+2\n",
    "print(named_lambda)\n"
   ]
  },
  {
   "cell_type": "code",
   "execution_count": 9,
   "metadata": {},
   "outputs": [
    {
     "data": {
      "text/plain": [
       "22"
      ]
     },
     "execution_count": 9,
     "metadata": {},
     "output_type": "execute_result"
    }
   ],
   "source": [
    "named_lambda(20)"
   ]
  },
  {
   "cell_type": "markdown",
   "metadata": {},
   "source": [
    "#### Multiple Inputs"
   ]
  },
  {
   "cell_type": "code",
   "execution_count": 13,
   "metadata": {},
   "outputs": [
    {
     "data": {
      "text/plain": [
       "40"
      ]
     },
     "execution_count": 13,
     "metadata": {},
     "output_type": "execute_result"
    }
   ],
   "source": [
    "def multiply(x, y):\n",
    "    return x * y\n",
    "\n",
    "multiply(10, 4)"
   ]
  },
  {
   "cell_type": "code",
   "execution_count": 15,
   "metadata": {},
   "outputs": [
    {
     "data": {
      "text/plain": [
       "90"
      ]
     },
     "execution_count": 15,
     "metadata": {},
     "output_type": "execute_result"
    }
   ],
   "source": [
    "#IFFE\n",
    "\n",
    "(lambda x, y, z: x*y*z)(15,3,2)"
   ]
  },
  {
   "cell_type": "markdown",
   "metadata": {},
   "source": [
    "Passing Function into Function"
   ]
  },
  {
   "cell_type": "code",
   "execution_count": 23,
   "metadata": {},
   "outputs": [
    {
     "data": {
      "text/plain": [
       "'B'"
      ]
     },
     "execution_count": 23,
     "metadata": {},
     "output_type": "execute_result"
    }
   ],
   "source": [
    "def apply_func(f, name):\n",
    "    \"\"\"\n",
    "    f -> function to execute\n",
    "    name -> name to exeute the function on\n",
    "    \"\"\"\n",
    "    return f(name)\n",
    "\n",
    "def get_first_letter(string):\n",
    "    return string[0]\n",
    "\n",
    "\n",
    "apply_func(get_first_letter, 'Brian')"
   ]
  },
  {
   "cell_type": "markdown",
   "metadata": {},
   "source": [
    "#### Passing a Lambda into a Function\n"
   ]
  },
  {
   "cell_type": "code",
   "execution_count": 19,
   "metadata": {},
   "outputs": [
    {
     "data": {
      "text/plain": [
       "'e'"
      ]
     },
     "execution_count": 19,
     "metadata": {},
     "output_type": "execute_result"
    }
   ],
   "source": [
    "#IIFE - immediately invoked function expression\n",
    "#execute a lambda function immediately after creation\n",
    "#syntax: (lambda,  x, y, etc: expression)(arg1, arg2, etc..)\n",
    "\n",
    "(lambda x: x+2)(10)\n",
    "\n",
    "#call the apply_func function, pass in a lambda function as argument 'f', pass \"codingtemple\"\n",
    "#as \"name\" argument\n",
    "\n",
    "apply_func(lambda string: string[-1], \"codingtemple\")"
   ]
  },
  {
   "cell_type": "code",
   "execution_count": 21,
   "metadata": {},
   "outputs": [
    {
     "data": {
      "text/plain": [
       "'LOWER TO UPPER'"
      ]
     },
     "execution_count": 21,
     "metadata": {},
     "output_type": "execute_result"
    }
   ],
   "source": [
    "apply_func(lambda string: string.upper(), \"lower to upper\") #comparatively to the bottom cell."
   ]
  },
  {
   "cell_type": "code",
   "execution_count": 25,
   "metadata": {},
   "outputs": [
    {
     "data": {
      "text/plain": [
       "'LOWER'"
      ]
     },
     "execution_count": 25,
     "metadata": {},
     "output_type": "execute_result"
    }
   ],
   "source": [
    "def string_to_upper(string):\n",
    "    return string.upper()\n",
    "apply_func(string_to_upper, \"lower\")"
   ]
  },
  {
   "cell_type": "markdown",
   "metadata": {},
   "source": [
    "return function from function"
   ]
  },
  {
   "cell_type": "code",
   "execution_count": 29,
   "metadata": {},
   "outputs": [
    {
     "name": "stdout",
     "output_type": "stream",
     "text": [
      "<function create_multiplier.<locals>.inner_func at 0x0000023F9536F310>\n"
     ]
    },
    {
     "data": {
      "text/plain": [
       "50"
      ]
     },
     "execution_count": 29,
     "metadata": {},
     "output_type": "execute_result"
    }
   ],
   "source": [
    "#regularly defined function\n",
    "#take in a 'num' argument and return a function\n",
    "\n",
    "def create_multiplier(num):\n",
    "    #define a locally scoped function that takes an 'x' argument\n",
    "    def inner_func(x):\n",
    "        #return x* the outer scopes \"num\" value\n",
    "        return x * num\n",
    "    #return the reference to the fnction defined within this creatE_multiplier function\n",
    "    return inner_func\n",
    "\n",
    "five_times = create_multiplier(5)\n",
    "print(five_times)\n",
    "five_times\n",
    "five_times(10)"
   ]
  },
  {
   "cell_type": "code",
   "execution_count": 32,
   "metadata": {},
   "outputs": [
    {
     "name": "stdout",
     "output_type": "stream",
     "text": [
      "50\n"
     ]
    }
   ],
   "source": [
    "five_times_ten = ((lambda num: lambda x: x*num)(5))(10)\n",
    "\n",
    "print(five_times_ten)"
   ]
  },
  {
   "cell_type": "code",
   "execution_count": 35,
   "metadata": {},
   "outputs": [
    {
     "name": "stdout",
     "output_type": "stream",
     "text": [
      "50\n"
     ]
    },
    {
     "data": {
      "text/plain": [
       "45"
      ]
     },
     "execution_count": 35,
     "metadata": {},
     "output_type": "execute_result"
    }
   ],
   "source": [
    "def create_mult(num):\n",
    "    def multiplier(x):\n",
    "        return x * num\n",
    "    return multiplier\n",
    "five_times_ten = create_mult(5)(10)\n",
    "print(five_times_ten)\n",
    "\n",
    "create_mult(3)(15)"
   ]
  },
  {
   "cell_type": "code",
   "execution_count": 38,
   "metadata": {},
   "outputs": [],
   "source": [
    "def hide_the_cache():\n",
    "    cache = {}\n",
    "    \n",
    "#This example has to do with global or local variables"
   ]
  },
  {
   "cell_type": "code",
   "execution_count": null,
   "metadata": {},
   "outputs": [],
   "source": [
    "cache = {}\n",
    "def something(x):\n",
    "        if x in cache:\n",
    "            return cache[x]\n",
    "        else:\n",
    "            cache[x] = x**2\n",
    "            return cache[x]\n",
    "    return something\n",
    "\n",
    "my_func = hide_the_cache()\n",
    "my_func(10)\n"
   ]
  },
  {
   "cell_type": "markdown",
   "metadata": {},
   "source": [
    "#### Returning a Lambda from a Function"
   ]
  },
  {
   "cell_type": "code",
   "execution_count": 42,
   "metadata": {},
   "outputs": [
    {
     "name": "stdout",
     "output_type": "stream",
     "text": [
      "<function new_multiplier.<locals>.<lambda> at 0x0000023F9536FDC0>\n"
     ]
    },
    {
     "data": {
      "text/plain": [
       "40"
      ]
     },
     "execution_count": 42,
     "metadata": {},
     "output_type": "execute_result"
    }
   ],
   "source": [
    "#create a function that takes in a num\n",
    "\n",
    "def new_multiplier(num):\n",
    "    #return the lambda function that takes in an x and will multiply x by the outer scope's num\n",
    "    return lambda x: x*num\n",
    "\n",
    "four = new_multiplier(4)\n",
    "print(four)\n",
    "four(10)"
   ]
  },
  {
   "cell_type": "markdown",
   "metadata": {},
   "source": [
    "#### If Statements within Lambdas"
   ]
  },
  {
   "cell_type": "code",
   "execution_count": 48,
   "metadata": {},
   "outputs": [
    {
     "data": {
      "text/plain": [
       "225"
      ]
     },
     "execution_count": 48,
     "metadata": {},
     "output_type": "execute_result"
    }
   ],
   "source": [
    "def do_something(number):\n",
    "    \n",
    "    if number > 10:\n",
    "        return number **2\n",
    "    else:\n",
    "        return number + 10\n",
    "    \n",
    "do_something(15)"
   ]
  },
  {
   "cell_type": "code",
   "execution_count": 50,
   "metadata": {},
   "outputs": [
    {
     "data": {
      "text/plain": [
       "225"
      ]
     },
     "execution_count": 50,
     "metadata": {},
     "output_type": "execute_result"
    }
   ],
   "source": [
    "# ternary: value_if_true if condition else value_if_false\n",
    "\n",
    "def do_something_again(num):\n",
    "    return num **2 if num > 10 else num +10\n",
    "\n",
    "do_something_again(15)"
   ]
  },
  {
   "cell_type": "code",
   "execution_count": 51,
   "metadata": {},
   "outputs": [
    {
     "data": {
      "text/plain": [
       "225"
      ]
     },
     "execution_count": 51,
     "metadata": {},
     "output_type": "execute_result"
    }
   ],
   "source": [
    "(lambda num: num**2 if num >10 else num + 10)(15)"
   ]
  },
  {
   "cell_type": "markdown",
   "metadata": {},
   "source": [
    "#### In-Class Exercise #1 <br>\n",
    "<p>Write an anonymous function that cubes the arguments passed in and assign the anonymous function to a variable 'f'.</p>"
   ]
  },
  {
   "cell_type": "code",
   "execution_count": 54,
   "metadata": {},
   "outputs": [
    {
     "name": "stdout",
     "output_type": "stream",
     "text": [
      "<function <lambda> at 0x0000023F9536FCA0>\n"
     ]
    }
   ],
   "source": [
    "f = (lambda x: x**3)\n",
    "f(3)\n",
    "print(f)"
   ]
  },
  {
   "cell_type": "code",
   "execution_count": 55,
   "metadata": {},
   "outputs": [
    {
     "name": "stdout",
     "output_type": "stream",
     "text": [
      "1000\n"
     ]
    }
   ],
   "source": [
    "answer = (lambda num: num**3)(10)\n",
    "print(answer)"
   ]
  },
  {
   "cell_type": "markdown",
   "metadata": {},
   "source": [
    "## Map <br>\n",
    "<p>The map function allows you to iterate over an entire list while running a function on each item of the list. This is why the map function works well with lambda's, because it simplifies things and you write less lines of code.<br>The syntax for a map function is \"map(function to be used, list to be used)\"<br>However, you must be careful, as the map function returns a map object, not a list. To turn it into a list we use the list() type conversion.</p>"
   ]
  },
  {
   "cell_type": "markdown",
   "metadata": {},
   "source": [
    "#### Syntax"
   ]
  },
  {
   "cell_type": "code",
   "execution_count": 62,
   "metadata": {},
   "outputs": [
    {
     "name": "stdout",
     "output_type": "stream",
     "text": [
      "[7, 14, 23, 7, -1, 7, 23, 47, 98]\n"
     ]
    }
   ],
   "source": [
    "#create a function that we want to apply to each element in a list\n",
    "def squared_minus_two(num):\n",
    "    return num ** 2 - 2\n",
    "\n",
    "numbers = [3, 4, 5, 3, 1, 3, 5, 7, 10]\n",
    "\n",
    "# create an empty list\n",
    "new_nums = []\n",
    "#loop over the numbers list\n",
    "for num in numbers:\n",
    "    #apply the function to that element\n",
    "    new_num = squared_minus_two(num)\n",
    "    new_nums.append(new_num)\n",
    "\n",
    "print(new_nums)"
   ]
  },
  {
   "cell_type": "code",
   "execution_count": 65,
   "metadata": {},
   "outputs": [
    {
     "data": {
      "text/plain": [
       "[7, 14, 23, 7, -1, 7, 23, 47, 98]"
      ]
     },
     "execution_count": 65,
     "metadata": {},
     "output_type": "execute_result"
    }
   ],
   "source": [
    "#map(function, *iterables -> list, tuple, string, set, dict, etc)\n",
    "\n",
    "map(squared_minus_two, numbers)\n",
    "list(map(squared_minus_two, numbers))"
   ]
  },
  {
   "cell_type": "code",
   "execution_count": 69,
   "metadata": {},
   "outputs": [],
   "source": [
    "my_map_obj = map(squared_minus_two, numbers)\n"
   ]
  },
  {
   "cell_type": "code",
   "execution_count": 73,
   "metadata": {},
   "outputs": [
    {
     "data": {
      "text/plain": [
       "7"
      ]
     },
     "execution_count": 73,
     "metadata": {},
     "output_type": "execute_result"
    }
   ],
   "source": [
    "next(my_map_obj)"
   ]
  },
  {
   "cell_type": "code",
   "execution_count": 75,
   "metadata": {},
   "outputs": [
    {
     "name": "stdout",
     "output_type": "stream",
     "text": [
      "x=1, y=10\n",
      "x=2, y=20\n",
      "x=3, y=30\n",
      "x=4, y=40\n",
      "x=5, y=50\n",
      "x=6, y=60\n"
     ]
    },
    {
     "data": {
      "text/plain": [
       "[10, 40, 90, 160, 250, 360]"
      ]
     },
     "execution_count": 75,
     "metadata": {},
     "output_type": "execute_result"
    }
   ],
   "source": [
    "def multiply(x, y):\n",
    "    print(f\"x={x}, y={y}\")\n",
    "    return x*y\n",
    "\n",
    "x_values = [1, 2, 3, 4, 5, 6]\n",
    "y_values = [10, 20, 30, 40, 50, 60]\n",
    "\n",
    "list(map(multiply, x_values, y_values))"
   ]
  },
  {
   "cell_type": "code",
   "execution_count": 82,
   "metadata": {},
   "outputs": [],
   "source": [
    "my_map = map(multiply, x_values, y_values)\n"
   ]
  },
  {
   "cell_type": "code",
   "execution_count": 86,
   "metadata": {},
   "outputs": [
    {
     "name": "stdout",
     "output_type": "stream",
     "text": [
      "x=4, y=40\n"
     ]
    },
    {
     "data": {
      "text/plain": [
       "160"
      ]
     },
     "execution_count": 86,
     "metadata": {},
     "output_type": "execute_result"
    }
   ],
   "source": [
    "next(my_map)"
   ]
  },
  {
   "cell_type": "markdown",
   "metadata": {},
   "source": [
    "#### Using Lambda's with Map"
   ]
  },
  {
   "cell_type": "code",
   "execution_count": 89,
   "metadata": {},
   "outputs": [
    {
     "data": {
      "text/plain": [
       "[23, 34, 14, 23, 2, 98, 359, 142]"
      ]
     },
     "execution_count": 89,
     "metadata": {},
     "output_type": "execute_result"
    }
   ],
   "source": [
    "numbers_again = [5, 6, 4, 5, 2, 10, 19, 12]\n",
    "\n",
    "list(map(lambda num: num**2 -2, numbers_again))"
   ]
  },
  {
   "cell_type": "code",
   "execution_count": 91,
   "metadata": {},
   "outputs": [
    {
     "data": {
      "text/plain": [
       "[10, 10, 10, 10]"
      ]
     },
     "execution_count": 91,
     "metadata": {},
     "output_type": "execute_result"
    }
   ],
   "source": [
    "x_vals = [1, 2, 3, 4]\n",
    "y_vals = [10, 20, 30, 40]\n",
    "list(map(lambda a, b: b//a, x_vals, y_vals))"
   ]
  },
  {
   "cell_type": "code",
   "execution_count": 93,
   "metadata": {},
   "outputs": [
    {
     "name": "stdout",
     "output_type": "stream",
     "text": [
      "10\n",
      "10\n",
      "10\n",
      "10\n"
     ]
    }
   ],
   "source": [
    "for num in map(lambda a, b: b//a, x_vals, y_vals):\n",
    "    print(num)"
   ]
  },
  {
   "cell_type": "markdown",
   "metadata": {},
   "source": [
    "#### In-Class Exercise #2 <br>\n",
    "<p>Use the map function to double each number if even, half it if its odd\n",
    "   "
   ]
  },
  {
   "cell_type": "code",
   "execution_count": 115,
   "metadata": {},
   "outputs": [
    {
     "data": {
      "text/plain": [
       "[0.5, 4, 1.5, 8, 2.5, 12, 3.5, 16, 4.5, 20]"
      ]
     },
     "execution_count": 115,
     "metadata": {},
     "output_type": "execute_result"
    }
   ],
   "source": [
    "numbers = range(1,11)\n",
    "list(numbers)\n",
    "\n",
    "\n",
    "list(map(lambda n: n*2 if n % 2 == 0 else n/2, numbers))\n",
    "\n",
    "     "
   ]
  },
  {
   "cell_type": "markdown",
   "metadata": {},
   "source": [
    "## Filter() <br>\n",
    "<p>Filter's are similar to the map function, where you're able to pass a function argument and a list argument and filter out something from the list based on the conditions passed. Similar to the map function, it returns a filter object, so you need to type convert it to a list()</p>"
   ]
  },
  {
   "cell_type": "markdown",
   "metadata": {},
   "source": [
    "#### Syntax"
   ]
  },
  {
   "cell_type": "code",
   "execution_count": 129,
   "metadata": {},
   "outputs": [
    {
     "name": "stdout",
     "output_type": "stream",
     "text": [
      "[False, False, True, True, True, False, False]\n"
     ]
    }
   ],
   "source": [
    "names = ['bob', 'billy', 'alex', 'amanda', 'amy', 'barbara', 'catherine']\n",
    "\n",
    "def starts_with_a(name):\n",
    "    return name[0].upper() == 'A'\n",
    "\n",
    "a_names_map = list(map(starts_with_a, names))\n",
    "print(a_names_map)"
   ]
  },
  {
   "cell_type": "code",
   "execution_count": 131,
   "metadata": {},
   "outputs": [
    {
     "name": "stdout",
     "output_type": "stream",
     "text": [
      "['alex', 'amanda', 'amy']\n"
     ]
    }
   ],
   "source": [
    "# syntax: filter (function_to_apply, iterable -> list tuple, set, dict string, etc)\n",
    "a_names_filter = list(filter(starts_with_a, names))\n",
    "print(a_names_filter)\n"
   ]
  },
  {
   "cell_type": "code",
   "execution_count": 132,
   "metadata": {},
   "outputs": [
    {
     "name": "stdout",
     "output_type": "stream",
     "text": [
      "[1, 2, 3, 4, 5, 6, 7, 8, 9, 10]\n"
     ]
    },
    {
     "data": {
      "text/plain": [
       "[1, 2, 0, 1, 2, 0, 1, 2, 0, 1]"
      ]
     },
     "execution_count": 132,
     "metadata": {},
     "output_type": "execute_result"
    }
   ],
   "source": [
    "def remainder(num):\n",
    "    #takes in a  number and returns their remainder after dividing by 3\n",
    "    return num % 3\n",
    "\n",
    "my_nums = [x for x in range(1, 11)]\n",
    "print(my_nums)\n",
    "list(map(remainder, my_nums))"
   ]
  },
  {
   "cell_type": "code",
   "execution_count": 133,
   "metadata": {},
   "outputs": [
    {
     "data": {
      "text/plain": [
       "[1, 2, 4, 5, 7, 8, 10]"
      ]
     },
     "execution_count": 133,
     "metadata": {},
     "output_type": "execute_result"
    }
   ],
   "source": [
    "list(filter(remainder, my_nums))\n",
    "\n",
    "#only prints out the statement that results to true\n"
   ]
  },
  {
   "cell_type": "markdown",
   "metadata": {},
   "source": [
    "#### Using Lambda's with Filter()"
   ]
  },
  {
   "cell_type": "code",
   "execution_count": 179,
   "metadata": {},
   "outputs": [
    {
     "data": {
      "text/plain": [
       "[]"
      ]
     },
     "execution_count": 179,
     "metadata": {},
     "output_type": "execute_result"
    }
   ],
   "source": [
    "names = ['bob', 'billy', 'alex', 'amanda', 'amy', 'barbara', 'catherine']\n",
    "\n",
    "list(filter(lambda name: True if name[0].upper() == 'B' else False, names))"
   ]
  },
  {
   "cell_type": "code",
   "execution_count": 186,
   "metadata": {},
   "outputs": [
    {
     "data": {
      "text/plain": [
       "['bob', 'billy', 'barbara']"
      ]
     },
     "execution_count": 186,
     "metadata": {},
     "output_type": "execute_result"
    }
   ],
   "source": [
    "names = ['bob', 'billy', 'alex', 'amanda', 'amy', 'barbara', 'catherine']\n",
    "\n",
    "list(filter(lambda name: True if name[0].upper() == 'B' else False, names))"
   ]
  },
  {
   "cell_type": "code",
   "execution_count": 170,
   "metadata": {},
   "outputs": [
    {
     "data": {
      "text/plain": [
       "['bob', 'billy', 'barbara']"
      ]
     },
     "execution_count": 170,
     "metadata": {},
     "output_type": "execute_result"
    }
   ],
   "source": [
    "names = ['bob', 'billy', 'alex', 'amanda', 'amy', 'barbara', 'catherine']\n",
    "\n",
    "list(filter(lambda name: name[0].upper() == 'B', names))"
   ]
  },
  {
   "cell_type": "markdown",
   "metadata": {},
   "source": [
    "#### In-Class Exercise #3 <br>\n",
    "<p>Filter out all the numbers that are below the mean of the list.<br><b>Hint: Import the 'statistics' module</b></p>"
   ]
  },
  {
   "cell_type": "code",
   "execution_count": 152,
   "metadata": {},
   "outputs": [
    {
     "name": "stdout",
     "output_type": "stream",
     "text": [
      "[90, 90, 60, 87, 79, 52, 85, 28, 12, 6, 85, 14, 34, 20, 78, 94, 65, 93, 81, 30]\n"
     ]
    },
    {
     "data": {
      "text/plain": [
       "59.15"
      ]
     },
     "execution_count": 152,
     "metadata": {},
     "output_type": "execute_result"
    }
   ],
   "source": [
    "from random import randint\n",
    "random_nums =[randint(1,100) for _ in range(20)]\n",
    "print(random_nums)\n",
    "\n",
    "import statistics\n",
    "\n",
    "mean(random_nums)\n"
   ]
  },
  {
   "cell_type": "code",
   "execution_count": 153,
   "metadata": {},
   "outputs": [],
   "source": [
    "from statistics import mean"
   ]
  },
  {
   "cell_type": "code",
   "execution_count": 154,
   "metadata": {},
   "outputs": [
    {
     "data": {
      "text/plain": [
       "[90, 90, 60, 87, 79, 85, 85, 78, 94, 65, 93, 81]"
      ]
     },
     "execution_count": 154,
     "metadata": {},
     "output_type": "execute_result"
    }
   ],
   "source": [
    "list(filter(lambda num: num > mean(random_nums), random_nums))"
   ]
  },
  {
   "cell_type": "markdown",
   "metadata": {},
   "source": [
    "## Reduce() <br>\n",
    "<p>Be very careful when using this function, as of Python 3 it's been moved to the 'functools' library and no longer is a built-in function.<br>The creator of Python himself, says to just use a for loop instead.</p>"
   ]
  },
  {
   "cell_type": "markdown",
   "metadata": {},
   "source": [
    "#### Syntax"
   ]
  },
  {
   "cell_type": "code",
   "execution_count": 192,
   "metadata": {},
   "outputs": [
    {
     "name": "stdout",
     "output_type": "stream",
     "text": [
      "Help on built-in function reduce in module _functools:\n",
      "\n",
      "reduce(...)\n",
      "    reduce(function, sequence[, initial]) -> value\n",
      "    \n",
      "    Apply a function of two arguments cumulatively to the items of a sequence,\n",
      "    from left to right, so as to reduce the sequence to a single value.\n",
      "    For example, reduce(lambda x, y: x+y, [1, 2, 3, 4, 5]) calculates\n",
      "    ((((1+2)+3)+4)+5).  If initial is present, it is placed before the items\n",
      "    of the sequence in the calculation, and serves as a default when the\n",
      "    sequence is empty.\n",
      "\n"
     ]
    }
   ],
   "source": [
    "\n",
    "from functools import reduce\n",
    "help(reduce)"
   ]
  },
  {
   "cell_type": "markdown",
   "metadata": {},
   "source": [
    "#### Using Lambda's with Reduce()"
   ]
  },
  {
   "cell_type": "code",
   "execution_count": 195,
   "metadata": {},
   "outputs": [
    {
     "name": "stdout",
     "output_type": "stream",
     "text": [
      "====================\n",
      "x =1\n",
      "y =2\n",
      "returns 3\n",
      "====================\n",
      "x =3\n",
      "y =3\n",
      "returns 6\n",
      "====================\n",
      "x =6\n",
      "y =4\n",
      "returns 10\n",
      "====================\n",
      "x =10\n",
      "y =5\n",
      "returns 15\n",
      "15\n"
     ]
    }
   ],
   "source": [
    "def add_nums(x, y):\n",
    "    print('='*20)\n",
    "    print(f\"x ={x}\")\n",
    "    print(f\"y ={y}\")\n",
    "    print(f\"returns {x + y}\")\n",
    "    return x + y\n",
    "\n",
    "result_add = reduce(add_nums, [1, 2, 3, 4, 5])\n",
    "print(result_add)"
   ]
  },
  {
   "cell_type": "code",
   "execution_count": 198,
   "metadata": {},
   "outputs": [
    {
     "name": "stdout",
     "output_type": "stream",
     "text": [
      "Total: 0, Num: 1\n",
      "Total: 1, Num: 2\n",
      "Total: 3, Num: 3\n",
      "Total: 6, Num: 4\n",
      "Total: 10, Num: 5\n",
      "15\n",
      "15\n"
     ]
    }
   ],
   "source": [
    "total = 0 \n",
    "for num in [1, 2, 3, 4, 5]:\n",
    "    print(f\"Total: {total}, Num: {num}\")\n",
    "    total += num\n",
    "print(total)\n",
    "\n",
    "total_reduce = reduce(lambda x, y: x+y, [1, 2, 3, 4, 5])\n",
    "print(total_reduce)"
   ]
  },
  {
   "cell_type": "markdown",
   "metadata": {},
   "source": [
    "#### In-Class Exercise #4 <br>\n",
    "<p>Use the reduce function to multiply the numbers in the list below together with a lambda function.</p>"
   ]
  },
  {
   "cell_type": "code",
   "execution_count": 214,
   "metadata": {},
   "outputs": [
    {
     "data": {
      "text/plain": [
       "120"
      ]
     },
     "execution_count": 214,
     "metadata": {},
     "output_type": "execute_result"
    }
   ],
   "source": [
    "reduce(lambda x, y: x*y, [1, 2, 3, 4, 5])"
   ]
  },
  {
   "cell_type": "markdown",
   "metadata": {},
   "source": [
    "## Recursion <br>\n",
    "<p>Recursion means that a function is calling itself, so it contanstly executes until a base case is reached. It will then push the returning values back up the chain until the function is complete. A prime example of recursion is computing factorials... such that 5! (factorial) is 5*4*3*2*1 which equals 120.</p>"
   ]
  },
  {
   "cell_type": "code",
   "execution_count": 3,
   "metadata": {},
   "outputs": [
    {
     "name": "stdout",
     "output_type": "stream",
     "text": [
      "Hello Brian Stanton, it sure is beautiful on this Monday\n"
     ]
    }
   ],
   "source": [
    "import time\n",
    "\n",
    "# print('hello')\n",
    "# time.sleep(5)\n",
    "# print('goodbye')\n",
    "\n",
    "\n",
    "def capitalize(name):\n",
    "    #Takes in a name, uppercase first letter - lower case rest\n",
    "    return name[0].upper() + name[1:].lower()\n",
    "\n",
    "def full_name(first, last):\n",
    "    #take in first name, capitalize first name, take in a last name, capitalize the last name\n",
    "    #return the concatenated string of first + space + last\n",
    "    time.sleep(5)\n",
    "    return capitalize(first) + ' ' + capitalize(last)\n",
    "\n",
    "def greet_person(first_name, last_name, day_of_week):\n",
    "    person_full_name = full_name(first_name, last_name)\n",
    "    print(f\"Hello {person_full_name}, it sure is beautiful on this {capitalize(day_of_week)}\")\n",
    "    \n",
    "greet_person('bRian', 'stAnTon', 'mOnDay')\n",
    "#takes 10 seconds to run"
   ]
  },
  {
   "cell_type": "markdown",
   "metadata": {},
   "source": [
    "#### Implementing a Base Case"
   ]
  },
  {
   "cell_type": "code",
   "execution_count": 6,
   "metadata": {},
   "outputs": [
    {
     "name": "stdout",
     "output_type": "stream",
     "text": [
      "add_nums5 = 5 + add_nums(4)\n",
      "add_nums4 = 4 + add_nums(3)\n",
      "add_nums3 = 3 + add_nums(2)\n",
      "add_nums2 = 2 + add_nums(1)\n",
      "add_nums(1) = 1\n"
     ]
    },
    {
     "data": {
      "text/plain": [
       "15"
      ]
     },
     "execution_count": 6,
     "metadata": {},
     "output_type": "execute_result"
    }
   ],
   "source": [
    "def add_nums(num):\n",
    "    #set up a base case\n",
    "    if num <=1:\n",
    "        print(f\"add_nums({num}) = {num}\")\n",
    "        return num\n",
    "    else:\n",
    "        print(f\"add_nums{(num)} = {num} + add_nums({num-1})\")\n",
    "        return num + add_nums(num-1)\n",
    "add_nums(5)"
   ]
  },
  {
   "cell_type": "markdown",
   "metadata": {},
   "source": [
    "#### Writing a Factorial Function"
   ]
  },
  {
   "cell_type": "code",
   "execution_count": 12,
   "metadata": {},
   "outputs": [
    {
     "data": {
      "text/plain": [
       "115637100417745116900985004502674699732969773408863976786887017517130664720697151899579097191535254337517451245916082044990668147587057313667396281003018313506066925615074748316705430577813975352467500491186811584266264492889105062609842246027165871608661576739887015832716415450113016639367239897130571168588397905851928643719562811751882898700471862761729697508003025110005343011091751845053728011180290632992161974442860248663418420553039721387588279707326671492279898402591301381157625481960982039138494714290192497594374989180853711955133681257256619238625566591433918261721799064045782330936741778389784907553718726980830014054695833269427500558345445730939030222776164008495082810594763691508675538672633678294078022772866040675349056727101163337841967674146228727454912799398307589005675493747684838291103554476866831439978774794198740567483364004214332380394502458198678417823382270807767475063406384247631653916538026121030560867594683897036402247922924172935150335162861967258565977390187805389997540541450636067696566390571332331804952133954966710299975815847482764067949705103270032622413344899679743205528854235934658835775865177835552965171715524250805679567651106672877602584976965490651878857556360357577703785722702124121412791991823562511821190661561592545466522535502377252210343563056655426751664425823042020066769019695805825645703440515378237013635920022768249266554195996438135323067575287042232460772955699307725066784026964713739277710392919002067160585814533946582537186391596206566579569971378957805466038435112617971130711089588904404350205122080372070392813331274063726713410980315536678986621579736699459640564173919365184206073946725506476882301760789425934028626014209892386582847917767151449762556176725477538151889682593558331514982881449830117263667481143904171099337734363508432017268045411129041331311908117571820818968796375106332786732197293865162054817201207113377167809510399836634577026746630228394681700564097697295431193955830049885939740571175236717991390200557650760407425354209534410752000000000000000000000000000000000000000000000000000000000000000000000000000000000000000000000000000000000000000000000000000000000000000000000000000000000000000000000000000000000000000000000000000000000000000000000000000000"
      ]
     },
     "execution_count": 12,
     "metadata": {},
     "output_type": "execute_result"
    }
   ],
   "source": [
    "def hide_the_cache():\n",
    "    cache = {}\n",
    "    def factorial(num):\n",
    "        if num in cache:\n",
    "            return cache[num]\n",
    "        elif num <= 1:\n",
    "            return num\n",
    "        else:\n",
    "            answer = num * factorial(num - 1)\n",
    "            cache[num] = answer\n",
    "            return answer\n",
    "    return factorial\n",
    "\n",
    "my_factorial_func = hide_the_cache()\n",
    "my_factorial_func(895)"
   ]
  },
  {
   "cell_type": "code",
   "execution_count": 13,
   "metadata": {},
   "outputs": [
    {
     "name": "stdout",
     "output_type": "stream",
     "text": [
      "factorial(25) = 25 * factorial(24)\n",
      "factorial(24) = 24 * factorial(23)\n",
      "factorial(23) = 23 * factorial(22)\n",
      "factorial(22) = 22 * factorial(21)\n",
      "factorial(21) = 21 * factorial(20)\n",
      "factorial(20) = 20 * factorial(19)\n",
      "factorial(19) = 19 * factorial(18)\n",
      "factorial(18) = 18 * factorial(17)\n",
      "factorial(17) = 17 * factorial(16)\n",
      "factorial(16) = 16 * factorial(15)\n",
      "factorial(15) = 15 * factorial(14)\n",
      "factorial(14) = 14 * factorial(13)\n",
      "factorial(13) = 13 * factorial(12)\n",
      "factorial(12) = 12 * factorial(11)\n",
      "factorial(11) = 11 * factorial(10)\n",
      "factorial(10) = 10 * factorial(9)\n",
      "factorial(9) = 9 * factorial(8)\n",
      "factorial(8) = 8 * factorial(7)\n",
      "factorial(7) = 7 * factorial(6)\n",
      "factorial(6) = 6 * factorial(5)\n",
      "factorial(5) = 5 * factorial(4)\n",
      "factorial(4) = 4 * factorial(3)\n",
      "factorial(3) = 3 * factorial(2)\n",
      "factorial(2) = 2 * factorial(1)\n"
     ]
    },
    {
     "data": {
      "text/plain": [
       "15511210043330985984000000"
      ]
     },
     "execution_count": 13,
     "metadata": {},
     "output_type": "execute_result"
    }
   ],
   "source": [
    "#n! = n * (n-1)!\n",
    "# 5! = 5 * 4!\n",
    "\n",
    "def factorial(num):\n",
    "    if num <= 1:\n",
    "        return 1\n",
    "    else: \n",
    "        print(f\"factorial({num}) = {num} * factorial({num-1})\")\n",
    "        return num * factorial(num-1)\n",
    "    \n",
    "factorial(25)"
   ]
  },
  {
   "cell_type": "markdown",
   "metadata": {},
   "source": [
    "#### In-Class Exercise #5 <br>\n",
    "<p>Write a recursive function that subtracts all numbers to the argument given.</p>"
   ]
  },
  {
   "cell_type": "code",
   "execution_count": 16,
   "metadata": {},
   "outputs": [
    {
     "name": "stdout",
     "output_type": "stream",
     "text": [
      "sub_nums10 = 10 - sub_nums(9)\n",
      "sub_nums9 = 9 - sub_nums(8)\n",
      "sub_nums8 = 8 - sub_nums(7)\n",
      "sub_nums7 = 7 - sub_nums(6)\n",
      "sub_nums6 = 6 - sub_nums(5)\n",
      "sub_nums5 = 5 - sub_nums(4)\n",
      "sub_nums4 = 4 - sub_nums(3)\n",
      "sub_nums3 = 3 - sub_nums(2)\n",
      "sub_nums2 = 2 - sub_nums(1)\n",
      "sub_nums(1) = 1\n"
     ]
    },
    {
     "data": {
      "text/plain": [
       "5"
      ]
     },
     "execution_count": 16,
     "metadata": {},
     "output_type": "execute_result"
    }
   ],
   "source": [
    "def sub_nums(num):\n",
    "    #set up a base case\n",
    "    if num <=1:\n",
    "        print(f\"sub_nums({num}) = {num}\")\n",
    "        return num\n",
    "    else:\n",
    "        print(f\"sub_nums{(num)} = {num} - sub_nums({num-1})\")\n",
    "        return num - sub_nums(num-1)\n",
    "sub_nums(10)"
   ]
  },
  {
   "cell_type": "markdown",
   "metadata": {},
   "source": [
    "## Generators <br>\n",
    "<p>Generators are a type of iterable, like lists or tuples. They do not allow indexing, but they can still be iterated through with for loops. They are created using functions and the yield statement.</p>"
   ]
  },
  {
   "cell_type": "code",
   "execution_count": 25,
   "metadata": {},
   "outputs": [
    {
     "name": "stdout",
     "output_type": "stream",
     "text": [
      "<map object at 0x0000019FD15F8850>\n"
     ]
    }
   ],
   "source": [
    "lengths = map(len, ['brian', 'stanton', 'coding temple'])\n",
    "print(lengths)"
   ]
  },
  {
   "cell_type": "code",
   "execution_count": 26,
   "metadata": {},
   "outputs": [
    {
     "name": "stdout",
     "output_type": "stream",
     "text": [
      "5\n",
      "7\n",
      "13\n"
     ]
    }
   ],
   "source": [
    "for item in lengths:\n",
    "    print(item)"
   ]
  },
  {
   "cell_type": "code",
   "execution_count": 27,
   "metadata": {},
   "outputs": [],
   "source": [
    "for item in lengths:\n",
    "    print(item)\n",
    "#wont print because it lazily iterates, not stored in memory. "
   ]
  },
  {
   "cell_type": "code",
   "execution_count": 30,
   "metadata": {},
   "outputs": [
    {
     "name": "stdout",
     "output_type": "stream",
     "text": [
      "Help on built-in function iter in module builtins:\n",
      "\n",
      "iter(...)\n",
      "    iter(iterable) -> iterator\n",
      "    iter(callable, sentinel) -> iterator\n",
      "    \n",
      "    Get an iterator from an object.  In the first form, the argument must\n",
      "    supply its own iterator, or be a sequence.\n",
      "    In the second form, the callable is called until it returns the sentinel.\n",
      "\n"
     ]
    }
   ],
   "source": [
    "help(iter)"
   ]
  },
  {
   "cell_type": "code",
   "execution_count": 32,
   "metadata": {},
   "outputs": [
    {
     "name": "stdout",
     "output_type": "stream",
     "text": [
      "Help on built-in function next in module builtins:\n",
      "\n",
      "next(...)\n",
      "    next(iterator[, default])\n",
      "    \n",
      "    Return the next item from the iterator. If default is given and the iterator\n",
      "    is exhausted, it is returned instead of raising StopIteration.\n",
      "\n"
     ]
    }
   ],
   "source": [
    "help(next)"
   ]
  },
  {
   "cell_type": "code",
   "execution_count": 34,
   "metadata": {},
   "outputs": [
    {
     "name": "stdout",
     "output_type": "stream",
     "text": [
      "<list_iterator object at 0x0000019FD11B2580>\n"
     ]
    }
   ],
   "source": [
    "a_new_list = [4, 5, 6, 7, 8, 9, 10]\n",
    "list_iter = iter(a_new_list)\n",
    "print(list_iter)"
   ]
  },
  {
   "cell_type": "code",
   "execution_count": 47,
   "metadata": {},
   "outputs": [
    {
     "ename": "StopIteration",
     "evalue": "",
     "output_type": "error",
     "traceback": [
      "\u001b[1;31m---------------------------------------------------------------------------\u001b[0m",
      "\u001b[1;31mStopIteration\u001b[0m                             Traceback (most recent call last)",
      "\u001b[1;32m~\\AppData\\Local\\Temp\\ipykernel_21684\\3934236731.py\u001b[0m in \u001b[0;36m<module>\u001b[1;34m\u001b[0m\n\u001b[1;32m----> 1\u001b[1;33m \u001b[0mnext\u001b[0m\u001b[1;33m(\u001b[0m\u001b[0mlist_iter\u001b[0m\u001b[1;33m)\u001b[0m\u001b[1;33m\u001b[0m\u001b[1;33m\u001b[0m\u001b[0m\n\u001b[0m",
      "\u001b[1;31mStopIteration\u001b[0m: "
     ]
    }
   ],
   "source": [
    "next(list_iter)\n",
    "#does it once its not stored"
   ]
  },
  {
   "cell_type": "markdown",
   "metadata": {},
   "source": [
    "#### Yield Keyword <br>\n",
    "<p>The yield keyword denotes a generator, it doesn't return so it won't leave the function and reset all variables in the function scope, instead it yields the number back to the caller.</p>"
   ]
  },
  {
   "cell_type": "code",
   "execution_count": 49,
   "metadata": {},
   "outputs": [
    {
     "data": {
      "text/plain": [
       "0"
      ]
     },
     "execution_count": 49,
     "metadata": {},
     "output_type": "execute_result"
    }
   ],
   "source": [
    "def my_range_iter(start, stop, step = 1):\n",
    "    while start < stop:\n",
    "        return start\n",
    "        start += step\n",
    "my_range_iter(0,10)"
   ]
  },
  {
   "cell_type": "code",
   "execution_count": 53,
   "metadata": {},
   "outputs": [
    {
     "name": "stdout",
     "output_type": "stream",
     "text": [
      "<generator object my_range_iter at 0x0000019FD174F970>\n"
     ]
    }
   ],
   "source": [
    "def my_range_iter(start, stop, step = 1):\n",
    "    while start < stop:\n",
    "        yield start\n",
    "        start += step\n",
    "        \n",
    "y = my_range_iter(0,10)\n",
    "print(y)\n",
    "#creating a generator object based off the word yield\n",
    "#variables within it are stored"
   ]
  },
  {
   "cell_type": "code",
   "execution_count": 59,
   "metadata": {},
   "outputs": [
    {
     "data": {
      "text/plain": [
       "5"
      ]
     },
     "execution_count": 59,
     "metadata": {},
     "output_type": "execute_result"
    }
   ],
   "source": [
    "next(y)"
   ]
  },
  {
   "cell_type": "code",
   "execution_count": 61,
   "metadata": {},
   "outputs": [
    {
     "name": "stdout",
     "output_type": "stream",
     "text": [
      "10\n",
      "12\n",
      "14\n",
      "16\n",
      "18\n",
      "20\n",
      "22\n",
      "24\n",
      "26\n",
      "28\n",
      "30\n",
      "32\n",
      "34\n",
      "36\n",
      "38\n",
      "40\n",
      "42\n",
      "44\n",
      "46\n",
      "48\n"
     ]
    }
   ],
   "source": [
    "for x in my_range_iter(10, 50, 2):\n",
    "    print(x)"
   ]
  },
  {
   "cell_type": "markdown",
   "metadata": {},
   "source": [
    "#### Infinite Generator"
   ]
  },
  {
   "cell_type": "code",
   "execution_count": 64,
   "metadata": {},
   "outputs": [],
   "source": [
    "# bad, never create infinite loops\n",
    "\n",
    "def infinite(x):\n",
    "    while True:\n",
    "        yield x\n",
    "        x+=1\n",
    "    \n",
    "infinite_gen = infinite(1)"
   ]
  },
  {
   "cell_type": "code",
   "execution_count": 65,
   "metadata": {},
   "outputs": [
    {
     "data": {
      "text/plain": [
       "1"
      ]
     },
     "execution_count": 65,
     "metadata": {},
     "output_type": "execute_result"
    }
   ],
   "source": [
    "next(infinite_gen)"
   ]
  },
  {
   "cell_type": "markdown",
   "metadata": {},
   "source": [
    "#### In-Class Exercise #6 <br>\n",
    "<p>Create a generator that takes a number argument and yields that number squared, then prints each number squared until zero is reached.</p>"
   ]
  },
  {
   "cell_type": "code",
   "execution_count": null,
   "metadata": {},
   "outputs": [],
   "source": []
  },
  {
   "cell_type": "markdown",
   "metadata": {},
   "source": [
    "# Exercises"
   ]
  },
  {
   "cell_type": "markdown",
   "metadata": {},
   "source": [
    "### Exercise #1 <br>\n",
    "<p>Filter out all of the empty strings from the list below</p>\n",
    "\n",
    "`Output: ['Argentina', 'San Diego', 'Boston', 'New York']`"
   ]
  },
  {
   "cell_type": "code",
   "execution_count": 63,
   "metadata": {},
   "outputs": [
    {
     "data": {
      "text/plain": [
       "['Argentina', 'San Diego', 'Boston', 'New York']"
      ]
     },
     "execution_count": 63,
     "metadata": {},
     "output_type": "execute_result"
    }
   ],
   "source": [
    "places = [\"Argentina\", \" \", \" \", \"San Diego\",\"\",\"  \",\"\",\"Boston\",\"New York\"]\n",
    "\n",
    "list(filter(lambda p: len(p) > 3, places))\n",
    "\n",
    "\n"
   ]
  },
  {
   "cell_type": "markdown",
   "metadata": {},
   "source": [
    "### Exercise #2 <br>\n",
    "<p>Write an anonymous function that sorts this list by the last name...<br><b>Hint: Use the \".sort()\" method and access the key\"</b></p>\n",
    "\n",
    "`Output: ['Victor aNisimov', 'Gary A.J. Bernstein', 'Joel Carter', 'Andrew P. Garfield', 'David hassELHOFF']`"
   ]
  },
  {
   "cell_type": "code",
   "execution_count": 19,
   "metadata": {},
   "outputs": [
    {
     "data": {
      "text/plain": [
       "['Andrew P. Garfield',\n",
       " 'David hassELHOFF',\n",
       " 'Gary A.J. Bernstein',\n",
       " 'Joel Carter',\n",
       " 'Victor aNisimov']"
      ]
     },
     "execution_count": 19,
     "metadata": {},
     "output_type": "execute_result"
    }
   ],
   "source": [
    "author = [\"Joel Carter\", \"Victor aNisimov\", \"Andrew P. Garfield\",\"David hassELHOFF\",\"Gary A.J. Bernstein\"]\n",
    "sorted(author)"
   ]
  },
  {
   "cell_type": "code",
   "execution_count": 41,
   "metadata": {},
   "outputs": [
    {
     "name": "stdout",
     "output_type": "stream",
     "text": [
      "['Gary A.J. Bernstein', 'Joel Carter', 'Andrew P. Garfield', 'Victor aNisimov', 'David hassELHOFF']\n"
     ]
    }
   ],
   "source": [
    "# sorting = lambda a: sorted(author)[-1].split()[-1][0]\n",
    "\n",
    "print(sorted(author, key=lambda x: x.split()[-1]))\n",
    "\n",
    "\n",
    "sorting = author.sort(key = lambda a: a.split()[-1])\n",
    "\n",
    "# sorting(author)\n"
   ]
  },
  {
   "cell_type": "markdown",
   "metadata": {},
   "source": [
    "### Exercise #3 <br>\n",
    "<p>Convert the list below from Celsius to Farhenheit, using the map function with a lambda...</p>\n",
    "\n",
    "`Output: [('Nashua', 89.6), ('Boston', 53.6), ('Los Angelos', 111.2), ('Miami', 84.2)]\n",
    "`"
   ]
  },
  {
   "cell_type": "code",
   "execution_count": 31,
   "metadata": {},
   "outputs": [
    {
     "name": "stdout",
     "output_type": "stream",
     "text": [
      "Nashua 32\n",
      "Boston 12\n",
      "Los Angelos 44\n",
      "Miami 29\n"
     ]
    },
    {
     "data": {
      "text/plain": [
       "[89.6, 53.6, 111.2, 84.2]"
      ]
     },
     "execution_count": 31,
     "metadata": {},
     "output_type": "execute_result"
    }
   ],
   "source": [
    "# F = (9/5)*C + 32\n",
    "places = [('Nashua',32),(\"Boston\",12),(\"Los Angelos\",44),(\"Miami\",29)]\n",
    "\n",
    "for val in places:\n",
    "    print(val[0], val[1])\n",
    "    \n",
    "list(map(lambda val: (9/5)*val[1] + 32, places))"
   ]
  },
  {
   "cell_type": "markdown",
   "metadata": {},
   "source": [
    "### Exercise #4 <br>\n",
    "<p>Write a recursion function to perform the fibonacci sequence up to the number passed in.</p>\n",
    "\n",
    "`Output for fib(5) => \n",
    "Iteration 0: 1\n",
    "Iteration 1: 1\n",
    "Iteration 2: 2\n",
    "Iteration 3: 3\n",
    "Iteration 4: 5\n",
    "Iteration 5: 8`"
   ]
  },
  {
   "cell_type": "code",
   "execution_count": 15,
   "metadata": {
    "scrolled": true
   },
   "outputs": [
    {
     "name": "stdout",
     "output_type": "stream",
     "text": [
      "0\n",
      "1\n",
      "1\n",
      "2\n",
      "3\n",
      "5\n",
      "8\n",
      "13\n",
      "21\n",
      "34\n",
      "55\n",
      "None\n"
     ]
    }
   ],
   "source": [
    "def fibonacci(num):\n",
    "    count = 0\n",
    "#start at 0\n",
    "#accomodate for the start of everything. 0/1\n",
    "#change alternate the output\n",
    "#each number equal to sum of preceding 2 numbers\n",
    "    first = 0\n",
    "    second = 1\n",
    "    base = 0\n",
    "\n",
    "    while count <= num:\n",
    "        print(first)\n",
    "        base = first + second\n",
    "        first = second\n",
    "        second = base\n",
    "        count += 1\n",
    "    #continuous loop\n",
    "\n",
    "print(fibonacci(10))"
   ]
  },
  {
   "cell_type": "code",
   "execution_count": 8,
   "metadata": {},
   "outputs": [
    {
     "name": "stdout",
     "output_type": "stream",
     "text": [
      "100\n",
      "81\n",
      "64\n",
      "49\n",
      "36\n",
      "25\n",
      "16\n",
      "9\n",
      "4\n",
      "1\n",
      "0\n"
     ]
    }
   ],
   "source": [
    "def my_gen(number):\n",
    "    while number >= 0:\n",
    "        yield number**2\n",
    "        number -=1\n",
    "\n",
    "for num in my_gen(10):\n",
    "    print(num)"
   ]
  }
 ],
 "metadata": {
  "kernelspec": {
   "display_name": "Python 3",
   "language": "python",
   "name": "python3"
  },
  "language_info": {
   "codemirror_mode": {
    "name": "ipython",
    "version": 3
   },
   "file_extension": ".py",
   "mimetype": "text/x-python",
   "name": "python",
   "nbconvert_exporter": "python",
   "pygments_lexer": "ipython3",
   "version": "3.10.8"
  },
  "vscode": {
   "interpreter": {
    "hash": "3ab5368e7ec7d93726c4b49a481fa74b0442170a02f03d047cec6ddd95fa5acf"
   }
  }
 },
 "nbformat": 4,
 "nbformat_minor": 2
}
